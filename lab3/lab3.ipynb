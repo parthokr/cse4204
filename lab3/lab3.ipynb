{
 "cells": [
  {
   "cell_type": "code",
   "execution_count": 1,
   "id": "5a4d647e-626d-44a2-9ea7-12af0edaa2ab",
   "metadata": {
    "is_executing": true
   },
   "outputs": [],
   "source": [
    "import matplotlib.pyplot as plt\n",
    "from sklearn.model_selection import train_test_split\n",
    "from sklearn import datasets\n",
    "import numpy as np"
   ]
  },
  {
   "cell_type": "code",
   "execution_count": null,
   "id": "6fde16c901f42f2b",
   "metadata": {
    "collapsed": false,
    "jupyter": {
     "outputs_hidden": false
    }
   },
   "outputs": [],
   "source": [
    "X, y = datasets.make_blobs(\n",
    "    n_samples=150, n_features=2, centers=2, cluster_std=1.5, random_state=2\n",
    ")\n",
    "y"
   ]
  },
  {
   "cell_type": "code",
   "execution_count": 72,
   "id": "ae734836882f6e4e",
   "metadata": {
    "ExecuteTime": {
     "end_time": "2023-10-14T00:17:51.287770Z",
     "start_time": "2023-10-14T00:17:51.282385Z"
    },
    "collapsed": false,
    "jupyter": {
     "outputs_hidden": false
    }
   },
   "outputs": [
    {
     "name": "stdout",
     "output_type": "stream",
     "text": [
      "[[  1.          -2.25997736  -8.21779094]\n",
      " [  1.           1.5880298   -1.7654783 ]\n",
      " [  1.          -0.52577983 -11.34940749]\n",
      " [  1.          -1.18679697  -1.80057881]\n",
      " [  1.          -0.59879906  -1.45632738]\n",
      " [  1.           1.90846569  -0.6583068 ]\n",
      " [  1.           2.67007966  -1.70491528]\n",
      " [  1.          -2.63347106 -10.36793378]\n",
      " [  1.           0.1638254   -0.84426193]\n",
      " [  1.          -1.7823564   -0.79782005]\n",
      " [  1.           0.73075429  -3.4492673 ]\n",
      " [  1.          -1.62247329 -12.58589376]\n",
      " [  1.          -3.4119278   -9.71171816]\n",
      " [  1.          -0.47151448 -10.37571491]\n",
      " [  1.          -2.87130051  -8.59397558]\n",
      " [  1.          -3.88704121  -7.92023943]\n",
      " [  1.           0.27327189  -2.8230258 ]\n",
      " [  1.          -0.04304745  -7.60915598]\n",
      " [  1.          -2.32798688 -10.87481325]\n",
      " [  1.          -0.83889419   1.41316281]\n",
      " [  1.          -0.45292089  -6.04316334]\n",
      " [  1.           2.69236867  -0.73809488]\n",
      " [  1.          -0.72443515  -7.44202457]\n",
      " [  1.          -2.56835447  -1.20577224]\n",
      " [  1.           1.07912598  -1.05491942]\n",
      " [  1.          -2.97980187  -8.83183653]\n",
      " [  1.           2.43442247  -0.15599663]\n",
      " [  1.          -1.85237668  -9.38174185]\n",
      " [  1.          -1.6943712  -10.2568012 ]\n",
      " [  1.          -1.6836874   -6.13442518]\n",
      " [  1.          -0.62985746  -7.56390652]\n",
      " [  1.          -0.23580499  -8.43535096]\n",
      " [  1.          -0.49365731  -8.378556  ]\n",
      " [  1.           2.2995107   -0.40434195]\n",
      " [  1.          -4.08223794  -6.88469836]\n",
      " [  1.          -0.88989127   0.11369336]\n",
      " [  1.           0.73364281  -1.88657175]\n",
      " [  1.          -1.55498682  -7.95169327]\n",
      " [  1.          -0.15215468 -10.97211684]\n",
      " [  1.           0.29073017  -3.17563261]\n",
      " [  1.           1.08394323  -3.30143547]\n",
      " [  1.          -0.98310135  -4.33194254]\n",
      " [  1.           0.56797028  -0.48591575]\n",
      " [  1.          -0.54202292  -1.96581438]\n",
      " [  1.           0.46218028  -8.90235829]\n",
      " [  1.          -0.89524628 -10.96464394]\n",
      " [  1.          -2.23658448 -11.26289379]\n",
      " [  1.           1.18048503  -0.15879893]\n",
      " [  1.           1.57869423   0.16971197]\n",
      " [  1.          -0.05400694  -0.93362535]\n",
      " [  1.          -1.97310998  -8.95514262]\n",
      " [  1.          -0.23742255 -12.53167518]\n",
      " [  1.           0.31190778  -0.52199607]\n",
      " [  1.           0.48019529 -12.99688015]\n",
      " [  1.          -1.90907668  -9.67996871]\n",
      " [  1.           2.29764685  -2.92418801]\n",
      " [  1.          -4.93225332  -9.31238561]\n",
      " [  1.           3.89298501  -2.89974664]\n",
      " [  1.           1.28061003  -2.28686567]\n",
      " [  1.          -1.7676764  -10.32182712]\n",
      " [  1.           0.06568633  -0.72536045]\n",
      " [  1.           0.77102877   0.95860323]\n",
      " [  1.          -1.78833491  -9.83575141]\n",
      " [  1.           1.17490793  -2.56379528]\n",
      " [  1.           1.355409    -0.54741367]\n",
      " [  1.          -0.97378999  -7.371431  ]\n",
      " [  1.          -0.53319173  -9.2917191 ]\n",
      " [  1.          -4.34058653  -9.41209208]\n",
      " [  1.          -3.40831778  -9.85913654]\n",
      " [  1.          -1.4517339  -10.22873665]\n",
      " [  1.          -1.84360609  -9.59318151]\n",
      " [  1.          -0.73325486  -1.93333585]\n",
      " [  1.           1.04209776  -3.75439248]\n",
      " [  1.           1.53194956  -0.36022153]\n",
      " [  1.           2.5455554  -11.69123524]\n",
      " [  1.           2.53552691  -2.37637174]\n",
      " [  1.          -1.33945732  -8.99247021]\n",
      " [  1.           2.56146654   0.75997189]\n",
      " [  1.          -2.92821038  -7.10474478]\n",
      " [  1.          -0.08133196  -7.58755487]\n",
      " [  1.           0.8698815   -1.75055202]\n",
      " [  1.           7.15628849  -0.06187083]\n",
      " [  1.           2.62195916   0.05971695]\n",
      " [  1.           3.63951614  -8.02518338]\n",
      " [  1.           0.13617715  -0.85490405]\n",
      " [  1.          -1.28008731  -8.66794651]\n",
      " [  1.           3.29089003  -4.27232081]\n",
      " [  1.          -0.79925028  -2.02544796]\n",
      " [  1.          -0.70730261  -8.6320622 ]\n",
      " [  1.           3.23867724  -3.59021881]\n",
      " [  1.          -1.88594036 -11.55825336]\n",
      " [  1.           0.75366336  -0.47013231]\n",
      " [  1.          -1.73623162  -5.60353306]\n",
      " [  1.          -2.81222405  -8.83288181]\n",
      " [  1.           0.92141506  -9.98499137]\n",
      " [  1.          -0.36309079  -9.40951948]\n",
      " [  1.           1.55806842  -1.49677179]\n",
      " [  1.          -2.29661532 -11.6406339 ]\n",
      " [  1.          -1.56430585  -9.59730336]\n",
      " [  1.           0.10261618   0.4306987 ]\n",
      " [  1.           2.08127945  -1.83276384]\n",
      " [  1.          -3.60011387 -12.60545327]\n",
      " [  1.           2.99659881  -0.83960814]\n",
      " [  1.           1.47289713  -8.82044055]\n",
      " [  1.           1.12129621  -0.29555073]\n",
      " [  1.           2.54279316  -1.7870558 ]\n",
      " [  1.          -0.2817437   -2.57206484]\n",
      " [  1.           1.40878732 -10.12499534]\n",
      " [  1.           1.98958168  -0.19122515]\n",
      " [  1.          -2.86703029 -10.84498679]\n",
      " [  1.          -3.50380017  -8.21200753]\n",
      " [  1.          -2.23212091  -8.718881  ]\n",
      " [  1.          -0.70822817  -2.35468348]\n",
      " [  1.           0.22044687 -10.05311414]\n",
      " [  1.           1.49711215   1.56301172]\n",
      " [  1.          -1.76547206  -8.8457383 ]\n",
      " [  1.           0.98993989  -1.50248997]\n",
      " [  1.           1.54082983  -0.1324291 ]\n",
      " [  1.          -2.35898272 -10.35659726]\n",
      " [  1.          -1.48505088  -2.30704483]]\n"
     ]
    }
   ],
   "source": [
    "X_train, X_test, y_train, y_test = train_test_split(\n",
    "    X, y, test_size=0.2, random_state=123\n",
    ")\n",
    "# t = np.insert(X_train, 0, 1, axis=1)\n",
    "# print(t)"
   ]
  },
  {
   "cell_type": "code",
   "execution_count": null,
   "id": "7003e6989a75bdb8",
   "metadata": {
    "collapsed": false,
    "jupyter": {
     "outputs_hidden": false
    }
   },
   "outputs": [],
   "source": [
    "fig = plt.figure()\n",
    "ax = fig.add_subplot(1, 1, 1)\n",
    "plt.scatter(X[:, 0], X[:, 1], marker=\"o\", c=y)"
   ]
  },
  {
   "cell_type": "code",
   "execution_count": 73,
   "id": "36bc37e25b581b95",
   "metadata": {
    "ExecuteTime": {
     "end_time": "2023-10-14T00:23:07.641858Z",
     "start_time": "2023-10-14T00:23:07.636078Z"
    },
    "collapsed": false,
    "jupyter": {
     "outputs_hidden": false
    }
   },
   "outputs": [],
   "source": [
    "\n",
    "class Perceptron:\n",
    "    def __init__(self, bias, adaption_rate=0.01, n_epochs=100):\n",
    "        self.ar = adaption_rate\n",
    "        self.n_epochs = n_epochs\n",
    "        self.activation_func = lambda arr: np.where(arr > 0, 1, 0)\n",
    "        self.weights = None\n",
    "        self.bias = bias\n",
    "\n",
    "    def fit(self, X, y):\n",
    "        # prepend 1 to X\n",
    "        X = np.insert(X, 0, 1, axis=1)\n",
    "        # assign random weights\n",
    "        self.weights = np.random.rand(X.shape[1])\n",
    "        # adjust w0\n",
    "        self.weights[0] = -self.bias\n",
    "        for _ in range(self.n_epochs):\n",
    "            for idx, x_i in enumerate(X):\n",
    "                y_hat = self.activation_func(np.dot(x_i, self.weights))\n",
    "                # adapt weights\n",
    "                self.weights += self.ar * (y[idx] - y_hat) * x_i\n",
    "                \n",
    "\n",
    "    def predict(self, X):\n",
    "        # prepend 1 to X\n",
    "        X = np.insert(X, 0, 1, axis=1)\n",
    "        return self.activation_func(np.dot(X, self.weights))\n",
    "                "
   ]
  },
  {
   "cell_type": "code",
   "execution_count": 78,
   "id": "7e439402b556caad",
   "metadata": {
    "ExecuteTime": {
     "end_time": "2023-10-14T00:42:47.318181Z",
     "start_time": "2023-10-14T00:42:47.188436Z"
    },
    "collapsed": false,
    "jupyter": {
     "outputs_hidden": false
    }
   },
   "outputs": [
    {
     "name": "stdout",
     "output_type": "stream",
     "text": [
      "[0.35       0.0347299  0.06008618]\n",
      "[1 0 1 1 0 0 1 1 1 0 1 0 0 0 1 0 1 1 0 1 1 1 1 1 0 0 1 0 0 0]\n",
      "[1 0 1 1 0 0 1 1 1 0 1 0 0 0 1 0 1 1 0 1 1 1 1 1 0 0 1 0 0 0]\n",
      "1.0\n"
     ]
    },
    {
     "data": {
      "image/png": "[encoded data removed]",
      "text/plain": [
       "<Figure size 640x480 with 1 Axes>"
      ]
     },
     "metadata": {},
     "output_type": "display_data"
    }
   ],
   "source": [
    "if __name__ == \"__main__\":\n",
    "    p = Perceptron(bias=0.5)\n",
    "    p.fit(X_train, y_train)\n",
    "    y_pred = p.predict(X_test)\n",
    "    print(p.weights)\n",
    "    print(y_pred)\n",
    "    print(y_test)\n",
    "    print(np.sum(y_pred == y_test) / len(y_test))\n",
    "    # plot scatter plot and decision boundary\n",
    "    fig = plt.figure()\n",
    "    ax = fig.add_subplot(1, 1, 1)\n",
    "    plt.scatter(X_test[:, 0], X_test[:, 1], marker=\"o\", c=y_pred)\n",
    "    x1 = np.linspace(-10, 10, 100)\n",
    "    x2 = -(p.weights[0] + p.weights[1] * x1) / p.weights[2]\n",
    "    plt.plot(x1, x2)\n",
    "    plt.show()\n",
    "    \n",
    "    \n"
   ]
  }
 ],
 "metadata": {
  "kernelspec": {
   "display_name": "Python 3 (ipykernel)",
   "language": "python",
   "name": "python3"
  },
  "language_info": {
   "codemirror_mode": {
    "name": "ipython",
    "version": 3
   },
   "file_extension": ".py",
   "mimetype": "text/x-python",
   "name": "python",
   "nbconvert_exporter": "python",
   "pygments_lexer": "ipython3",
   "version": "3.11.5"
  }
 },
 "nbformat": 4,
 "nbformat_minor": 5
}
