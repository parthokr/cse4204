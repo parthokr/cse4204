{
 "cells": [
  {
   "cell_type": "code",
   "execution_count": 123,
   "id": "initial_id",
   "metadata": {
    "collapsed": true,
    "ExecuteTime": {
     "end_time": "2023-11-24T19:25:05.023614Z",
     "start_time": "2023-11-24T19:25:05.016152Z"
    }
   },
   "outputs": [],
   "source": [
    "import numpy as np"
   ]
  },
  {
   "cell_type": "code",
   "execution_count": 217,
   "outputs": [],
   "source": [
    "class HopfieldNetwork:\n",
    "    def __init__(self, n):\n",
    "        self.n = n\n",
    "        self.weights = []\n",
    "        self.threshold = 0\n",
    "    \n",
    "    def fit(self, X):\n",
    "        self.weights = np.zeros((self.n, self.n))\n",
    "        for x in X:\n",
    "            self.weights += np.outer(x, x)\n",
    "            print(self.weights)\n",
    "        # self.weights /= self.n\n",
    "        np.fill_diagonal(self.weights, 0)\n",
    "        self.threshold = 0\n",
    "    \n",
    "    def predict(self, x):\n",
    "        y = np.dot(self.weights, x) - self.threshold\n",
    "        y[y >= 0] = 1\n",
    "        y[y < 0] = -1\n",
    "        return y"
   ],
   "metadata": {
    "collapsed": false,
    "ExecuteTime": {
     "end_time": "2023-11-24T19:46:11.688107Z",
     "start_time": "2023-11-24T19:46:11.683199Z"
    }
   },
   "id": "abd50170065b824b"
  },
  {
   "cell_type": "code",
   "execution_count": 219,
   "outputs": [
    {
     "name": "stdout",
     "output_type": "stream",
     "text": [
      "[[ 1. -1.  1. -1.  1.  1. -1.  1.]\n",
      " [-1.  1. -1.  1. -1. -1.  1. -1.]\n",
      " [ 1. -1.  1. -1.  1.  1. -1.  1.]\n",
      " [-1.  1. -1.  1. -1. -1.  1. -1.]\n",
      " [ 1. -1.  1. -1.  1.  1. -1.  1.]\n",
      " [ 1. -1.  1. -1.  1.  1. -1.  1.]\n",
      " [-1.  1. -1.  1. -1. -1.  1. -1.]\n",
      " [ 1. -1.  1. -1.  1.  1. -1.  1.]]\n",
      "[[ 2.  0.  2. -2.  0.  0.  0.  2.]\n",
      " [ 0.  2.  0.  0. -2. -2.  2.  0.]\n",
      " [ 2.  0.  2. -2.  0.  0.  0.  2.]\n",
      " [-2.  0. -2.  2.  0.  0.  0. -2.]\n",
      " [ 0. -2.  0.  0.  2.  2. -2.  0.]\n",
      " [ 0. -2.  0.  0.  2.  2. -2.  0.]\n",
      " [ 0.  2.  0.  0. -2. -2.  2.  0.]\n",
      " [ 2.  0.  2. -2.  0.  0.  0.  2.]]\n",
      "predicted pattern: [ 1. -1.  1. -1.  1.  1. -1.  1.]\n"
     ]
    }
   ],
   "source": [
    "from random import randint\n",
    "X = np.array([[1, -1, 1, -1, 1, 1, -1, 1],\n",
    "              [1, 1, 1, -1, -1, -1, 1, 1]])\n",
    "hn = HopfieldNetwork(8)\n",
    "hn.fit(X)\n",
    "pred = hn.predict([1, -1, 1, 0, 1, 1, -1, 0])\n",
    "print(f'predicted pattern: {pred}')"
   ],
   "metadata": {
    "collapsed": false,
    "ExecuteTime": {
     "end_time": "2023-11-24T19:46:33.302482Z",
     "start_time": "2023-11-24T19:46:33.299492Z"
    }
   },
   "id": "8f4ea9597cb98fd6"
  },
  {
   "cell_type": "code",
   "execution_count": null,
   "outputs": [],
   "source": [],
   "metadata": {
    "collapsed": false
   },
   "id": "c701a5f8c4dce175"
  }
 ],
 "metadata": {
  "kernelspec": {
   "display_name": "Python 3",
   "language": "python",
   "name": "python3"
  },
  "language_info": {
   "codemirror_mode": {
    "name": "ipython",
    "version": 2
   },
   "file_extension": ".py",
   "mimetype": "text/x-python",
   "name": "python",
   "nbconvert_exporter": "python",
   "pygments_lexer": "ipython2",
   "version": "2.7.6"
  }
 },
 "nbformat": 4,
 "nbformat_minor": 5
}
